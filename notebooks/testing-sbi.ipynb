{
 "cells": [
  {
   "cell_type": "code",
   "execution_count": 12,
   "id": "3437d93e-e4cd-420a-8922-e08ccc04b33f",
   "metadata": {},
   "outputs": [],
   "source": [
    "import torch\n",
    "from sbi.inference import infer\n",
    "import sbi.utils as utils\n",
    "import sys"
   ]
  },
  {
   "cell_type": "code",
   "execution_count": 5,
   "id": "cd1a1f74-f709-4f09-b4ec-31430c0eb343",
   "metadata": {},
   "outputs": [],
   "source": [
    "sys.path.insert(1, r\"C:\\Users\\David O'Ryan\\Documents\\coding_projects\\APySPAM\\APySPAM\")"
   ]
  },
  {
   "cell_type": "code",
   "execution_count": 6,
   "id": "df09fa3d-fdfb-4dea-b404-7506d2349929",
   "metadata": {},
   "outputs": [],
   "source": [
    "import Run"
   ]
  },
  {
   "cell_type": "markdown",
   "id": "028d63c1-a69b-4e1c-a12b-4d8ff365594e",
   "metadata": {},
   "source": [
    "### Setting up the Prior"
   ]
  },
  {
   "cell_type": "code",
   "execution_count": null,
   "id": "22266098-754d-420a-a7fb-533df19c0484",
   "metadata": {},
   "outputs": [],
   "source": [
    "## Need to fully functionalize APySPAM - a job for when I'm not meant to be on holiday.\n",
    "prior_min = \n",
    "prior_max = "
   ]
  },
  {
   "cell_type": "markdown",
   "id": "80bc10c7-90c9-4bc8-b6f4-48fb0c77a5f2",
   "metadata": {},
   "source": [
    "### Running the SBI"
   ]
  },
  {
   "cell_type": "code",
   "execution_count": null,
   "id": "2a95c159-c81e-4033-a634-434b5c273d05",
   "metadata": {},
   "outputs": [],
   "source": [
    "parameter_posterior = infer(simulator, prior, method='SNPE', num_simulations=100)"
   ]
  }
 ],
 "metadata": {
  "kernelspec": {
   "display_name": "Python 3 (ipykernel)",
   "language": "python",
   "name": "python3"
  },
  "language_info": {
   "codemirror_mode": {
    "name": "ipython",
    "version": 3
   },
   "file_extension": ".py",
   "mimetype": "text/x-python",
   "name": "python",
   "nbconvert_exporter": "python",
   "pygments_lexer": "ipython3",
   "version": "3.9.7"
  }
 },
 "nbformat": 4,
 "nbformat_minor": 5
}
